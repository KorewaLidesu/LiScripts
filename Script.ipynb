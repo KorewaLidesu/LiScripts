{
  "nbformat": 4,
  "nbformat_minor": 0,
  "metadata": {
    "colab": {
      "name": "Script",
      "provenance": [],
      "collapsed_sections": [],
      "authorship_tag": "ABX9TyMlC4qMoDYcqMGOUCSD55MV",
      "include_colab_link": true
    },
    "kernelspec": {
      "name": "python3",
      "display_name": "Python 3"
    },
    "language_info": {
      "name": "python"
    }
  },
  "cells": [
    {
      "cell_type": "markdown",
      "metadata": {
        "id": "view-in-github",
        "colab_type": "text"
      },
      "source": [
        "<a href=\"https://colab.research.google.com/github/KorewaLidesu/LiScripts/blob/main/Script.ipynb\" target=\"_parent\"><img src=\"https://colab.research.google.com/assets/colab-badge.svg\" alt=\"Open In Colab\"/></a>"
      ]
    },
    {
      "cell_type": "markdown",
      "metadata": {
        "id": "CH_m3ZBDTbsk"
      },
      "source": [
        "## ----------------------- Li's script v1.2 ----------------------- \n",
        "Click Run (or Shift+Enter) to start the script\n",
        "#####(Updated: 02/06/2021)"
      ]
    },
    {
      "cell_type": "code",
      "metadata": {
        "id": "usmpK0MTCjDQ",
        "colab": {
          "base_uri": "https://localhost:8080/"
        },
        "cellView": "form",
        "outputId": "22c1021c-9873-49f4-e725-d55da0647f8c"
      },
      "source": [
        "#@title Main code\n",
        "clear_output()\n",
        "try:\n",
        "  print(line);\n",
        "  print('MULTIFUNCTION SCRIPTS'.center(169,' '))\n",
        "  print(line); print(); print()\n",
        "  print('   1. Youtube Downloader')\n",
        "  print('   2. Pixiv Downloader')\n",
        "  print(); print()\n",
        "  print(line)\n",
        "  print('   x. End program');\n",
        "  print(line); print()\n",
        "  i1 = input('Input: ')\n",
        "  if i1 == '1':\n",
        "    clear_output()\n",
        "    dmount()\n",
        "    if not 'yinit' in globals(): \n",
        "      yinst()\n",
        "      global yinit\n",
        "      yinit = ''\n",
        "    youtubedownload()\n",
        "  elif i1 == '2':\n",
        "    clear_output()\n",
        "    dmount()\n",
        "    if not 'pinit' in globals(): \n",
        "      pinst()\n",
        "      global pinit\n",
        "      pinit = ''\n",
        "    if not os.path.exists(\"PixivUtil2/config.ini\"): pconf()\n",
        "    clear_output()\n",
        "    !python PixivUtil2/PixivUtil2.py\n",
        "    clear_output()\n",
        "  elif (i1.lower() == 'x'): \n",
        "    clear_output();\n",
        "  else:\n",
        "    clear_output(); print(); print(e1.center(50, '-')); print()  \n",
        "  del i1\n",
        "except KeyboardInterrupt:\n",
        "  clear_output()\n",
        "  print('Interrupted!')\n",
        "\n",
        "\n",
        "\n",
        "\n"
      ],
      "execution_count": null,
      "outputs": []
    },
    {
      "cell_type": "code",
      "metadata": {
        "cellView": "form",
        "id": "tmKNcaGEBQzP"
      },
      "source": [
        "#@title Simple wget downloader { run: \"auto\" }\n",
        "import os\n",
        "link = \"input link here\" #@param {type:\"string\"}\n",
        "path = \"path to store (ex: /content/drive/MyDrive)\" #@param {type:\"string\"}\n",
        "try:\n",
        "  if os.path.exists('autorun'):\n",
        "    !wget !wget -P \"$path\" \"$link\"\n",
        "  else: mkdir autorun\n",
        "except KeyboardInterrupt:\n",
        "  clear_output()\n",
        "  print('Interrupted!')"
      ],
      "execution_count": null,
      "outputs": []
    },
    {
      "cell_type": "code",
      "metadata": {
        "id": "ljfiOWZDguWi",
        "cellView": "form"
      },
      "source": [
        "#@title AFK machine { run: \"auto\" }\n",
        "foldera = 7075448 #@param {type:\"number\"}\n",
        "#%%capture\n",
        "#try:\n",
        "  #while True:pass\n",
        "#except KeyboardInterrupt:\n",
        "#  print('Interrupted!')\n",
        "#from google.colab import drive\n",
        "#drive.mount('/content/drive')\n",
        "!find drive/MyDrive/Pixiv/*$foldera*/* -maxdepth 0 -type d | wc -l\n"
      ],
      "execution_count": null,
      "outputs": []
    },
    {
      "cell_type": "markdown",
      "metadata": {
        "id": "tGFJ6_uEhKhN"
      },
      "source": [
        "#Start this cell to initializing\n",
        "You don't need to run this again after"
      ]
    },
    {
      "cell_type": "code",
      "metadata": {
        "id": "DQyL8UJEFyPZ",
        "cellView": "form"
      },
      "source": [
        "#@title Init\n",
        "%%capture\n",
        "import os\n",
        "from IPython.display import clear_output\n",
        "if not (os.path.exists('firstrun')): \n",
        "  ###Varients\n",
        "  HAACHAMA = 'YES'\n",
        "  c1 = ' Execute completed. Program stopped. '\n",
        "  e1 = ' Invalid input '\n",
        "  line = '<=======================================================================================================================================================================>'\n",
        "\n",
        "  ###Drive init\n",
        "  def dinst(): #Init\n",
        "    i2 = input('      Do you want to mount your GDrive? (Y/N, Default: N): ').lower()\n",
        "    if i2 == 'y':\n",
        "      from google.colab import drive\n",
        "      drive.mount('/content/drive')\n",
        "      !mkdir 'dmounted' &> /dev/null\n",
        "    else:\n",
        "      !mkdir 'dnotmount' &> /dev/null\n",
        "    del i2\n",
        "    global dinit\n",
        "    dinit = ''\n",
        "  def dmount(): #Mount detect\n",
        "    print(line); print()\n",
        "    if 'dinit' in globals():\n",
        "      if (os.path.exists('dmounted')): print('      Drive mounted. If you want to change drive, remove \"dmounted\" folder')\n",
        "      elif (os.path.exists('dnotmount')): print('      No drive mounted. If you want to mount drive, remove \"dnotmount\" folder')\n",
        "      else:\n",
        "        dinit = ''\n",
        "        del dinit\n",
        "        dinst()\n",
        "    else: dinst()\n",
        "    print(); print(line)\n",
        "\n",
        "  ###Youtube init\n",
        "  def yinst():\n",
        "      !mkdir YoutubeCookie &> /dev/null\n",
        "      !apt-get install -y atomicparsley &> /dev/null\n",
        "      !pip install --upgrade youtube-dl &> /dev/null\n",
        "  def videoform():\n",
        "    !youtube-dl $cookie --embed-thumbnail -ciw -o '$output/%(title)s.%(ext)s' -v $link\n",
        "  def audioform():\n",
        "    !youtube-dl $cookie --embed-thumbnail --extract-audio --audio-format mp3 -ciw -o '$output/%(title)s.%(ext)s' -v $link\n",
        "  def youtubedownload():\n",
        "    print()\n",
        "    link = input('    Youtube link: ')\n",
        "    output = input('    Output (ex: drive/MyDrive): ')\n",
        "    print(); print(line); print()\n",
        "    print('    Which types of file you want to download? (Default: 3)');print('      1. Only video (MP4/WEPB)');print('      2. Only audio (MP3)');print('      3. Both')\n",
        "    i3 = input('    Input : ') \n",
        "    print('    Do you want to use cookie? If yes, put it to YoutubeCookie folder')\n",
        "    i4 = input('(Y/N, Default: N) : ')\n",
        "    if i4.lower() == \"y\": \n",
        "      cookie = '--cookies YoutubeCookie/cookies.txt'\n",
        "    print(); print(line); print()\n",
        "    if i3 == '1': videoform()\n",
        "    elif i3 == '2': audioform()\n",
        "    else: audioform(); videoform()\n",
        "    del i3, i4\n",
        "    if 'cookie' in globals(): del cookie\n",
        "    clear_output()\n",
        "    print(); print(c1.center(100, '-')); print()\n",
        "\n",
        "  ###Pixiv init\n",
        "  def pinst():\n",
        "    !git clone 'https://github.com/Nandaka/PixivUtil2.git' &> /dev/null\n",
        "    !pip install -r 'PixivUtil2/requirements.txt' &> /dev/null\n",
        "  def pconf():\n",
        "    print('     Missing config.ini. What do you want to do? (Default: 3)')\n",
        "    print('       1. Download from URL (Direct link)')\n",
        "    print('       2. Copy from Drive')\n",
        "    print('       3. Create with first run')\n",
        "    print()\n",
        "    i3= input('Input : ')\n",
        "    if i3 == '1': \n",
        "      link = input('URL : ')\n",
        "      !wget -P /content/PixivUtil2 '$link' &> /dev/null\n",
        "    elif i3 == '2':\n",
        "      link = input('Path (ex: drive/MyDrive/Pixiv) : ') + '/config.ini'\n",
        "      !cp '$link' 'PixivUtil2/config.ini' &> /dev/null\n",
        "    else: pass\n",
        "    del i3\n",
        "  \n",
        "  ###Mega init\n",
        "  def minst():\n",
        "    !apt-get install megatools\n",
        "    "
      ],
      "execution_count": null,
      "outputs": []
    }
  ]
}
