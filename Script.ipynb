{
  "nbformat": 4,
  "nbformat_minor": 0,
  "metadata": {
    "colab": {
      "name": "Script",
      "provenance": [],
      "collapsed_sections": [
        "CH_m3ZBDTbsk",
        "tGFJ6_uEhKhN",
        "7DbAsrepTS3c"
      ],
      "include_colab_link": true
    },
    "kernelspec": {
      "name": "python3",
      "display_name": "Python 3"
    },
    "language_info": {
      "name": "python"
    }
  },
  "cells": [
    {
      "cell_type": "markdown",
      "metadata": {
        "id": "view-in-github",
        "colab_type": "text"
      },
      "source": [
        "<a href=\"https://colab.research.google.com/github/KorewaLidesu/LiScripts/blob/main/Script.ipynb\" target=\"_parent\"><img src=\"https://colab.research.google.com/assets/colab-badge.svg\" alt=\"Open In Colab\"/></a>"
      ]
    },
    {
      "cell_type": "markdown",
      "metadata": {
        "id": "CH_m3ZBDTbsk"
      },
      "source": [
        "## --------------- Li's script v1.3 --------------- \n",
        "Click Run (or Shift+Enter) to start the script\n",
        "#####(Updated: 03/06/2021)"
      ]
    },
    {
      "cell_type": "code",
      "metadata": {
        "id": "usmpK0MTCjDQ",
        "cellView": "form"
      },
      "source": [
        "#@title Main code\n",
        "clear_output()\n",
        "try:\n",
        "  print(line);\n",
        "  print('MULTIFUNCTION SCRIPTS'.center(169,' '))\n",
        "  print(line); print(); print()\n",
        "  print('   1. Youtube Downloader')\n",
        "  print('   2. Pixiv Downloader')\n",
        "  print(); print()\n",
        "  print(line)\n",
        "  print('   x. End program');\n",
        "  print(line); print()\n",
        "  i1 = input('Input: ')\n",
        "  if i1 == '1':\n",
        "    clear_output()\n",
        "    dmount()\n",
        "    if not 'yinit' in globals(): \n",
        "      yinst()\n",
        "      global yinit\n",
        "      yinit = ''\n",
        "    youtubedownload()\n",
        "  elif i1 == '2':\n",
        "    clear_output()\n",
        "    dmount()\n",
        "    if not 'pinit' in globals(): \n",
        "      pinst()\n",
        "      global pinit\n",
        "      pinit = ''\n",
        "    if not os.path.exists(\"PixivUtil2/config.ini\"): pconf()\n",
        "    clear_output()\n",
        "    !python PixivUtil2/PixivUtil2.py\n",
        "    clear_output()\n",
        "  elif (i1.lower() == 'x'): \n",
        "    clear_output();\n",
        "  else:\n",
        "    clear_output(); print(); print(e1.center(50, '-')); print()  \n",
        "  del i1\n",
        "except KeyboardInterrupt:\n",
        "  clear_output()\n",
        "  print('Interrupted!')\n",
        "\n",
        "\n",
        "\n",
        "\n"
      ],
      "execution_count": null,
      "outputs": []
    },
    {
      "cell_type": "markdown",
      "metadata": {
        "id": "tGFJ6_uEhKhN"
      },
      "source": [
        "#Start this cell to initializing\n",
        "You don't need to run this again after"
      ]
    },
    {
      "cell_type": "code",
      "metadata": {
        "id": "DQyL8UJEFyPZ",
        "cellView": "form"
      },
      "source": [
        "#@title Import lib and create variable\n",
        "%%capture\n",
        "\n",
        "###> Import lib\n",
        "%%capture\n",
        "import os\n",
        "from IPython.display import clear_output\n",
        "\n",
        "###> Variable\n",
        "HAACHAMA = 'YES'\n",
        "c1 = ' Execute completed. Program stopped. '\n",
        "e1 = ' Invalid input '\n",
        "line = '<' + '='*167 + '>'\n",
        "\n",
        "###> General function\n",
        "  # 1. Convert list to string\n",
        "def str(l):\n",
        "  s = \"\"\n",
        "  for ele in l:\n",
        "      s += ele\n",
        "  return s\n"
      ],
      "execution_count": 2,
      "outputs": []
    },
    {
      "cell_type": "code",
      "metadata": {
        "cellView": "form",
        "id": "xIkcf5stDtt0"
      },
      "source": [
        "#@title Drive init\n",
        "%%capture\n",
        "\n",
        "### Ask if want to mount\n",
        "def dask():\n",
        "  i2 = input('      Do you want to mount your GDrive? (Y/N, Default: N): ').lower()\n",
        "  if i2 == 'y':\n",
        "    from google.colab import drive\n",
        "    drive.mount('/content/drive')\n",
        "    !mkdir 'dmounted' &> /dev/null\n",
        "  else:\n",
        "    !mkdir 'dnotmount' &> /dev/null\n",
        "  del i2\n",
        "  global dinit\n",
        "  dinit = ''\n",
        "\n",
        "### Mount detection\n",
        "def dmount(): \n",
        "  print(line); print()\n",
        "  if 'dinit' in globals():\n",
        "    if os.path.exists('dmounted'): print('      Drive mounted. If you want to change drive, remove \"dmounted\" folder')\n",
        "    elif os.path.exists('dnotmount'): print('      No drive mounted. If you want to mount drive, remove \"dnotmount\" folder')\n",
        "    else:\n",
        "      dinit = ''\n",
        "      del dinit\n",
        "      dinst()\n",
        "  else: dinst()\n",
        "  print(); print(line)"
      ],
      "execution_count": null,
      "outputs": []
    },
    {
      "cell_type": "code",
      "metadata": {
        "cellView": "form",
        "id": "DKTBtMcSEA02"
      },
      "source": [
        "#@title Pixiv init\n",
        "%%capture\n",
        "\n",
        "### Clone PixivUtil2 (Nandaka) and install requirements\n",
        "!git clone 'https://github.com/Nandaka/PixivUtil2.git' &> /dev/null\n",
        "!pip install -r 'PixivUtil2/requirements.txt' &> /dev/null\n",
        "\n",
        "### Config checker\n",
        "def pconf():\n",
        "  print('     Missing config.ini. What do you want to do? (Default: 1)')\n",
        "  print('       1. Create with first run')\n",
        "  print('       2. Download from URL (Direct link)')\n",
        "  if os.path.exists('dmounted'): print('       3. Copy from Drive')\n",
        "  print()\n",
        "  i3= input('Input : ')\n",
        "  if i3 == '2': \n",
        "    link = input('URL : ')\n",
        "    !wget -P /content/PixivUtil2 '$link' &> /dev/null\n",
        "  elif i3 == '3':\n",
        "    if os.path.exists('dmounted'):\n",
        "      link = input('Path (ex: drive/MyDrive/Pixiv) : ') + '/config.ini'\n",
        "      !cp '$link' 'PixivUtil2/config.ini' &> /dev/null\n",
        "  del i3"
      ],
      "execution_count": null,
      "outputs": []
    },
    {
      "cell_type": "code",
      "metadata": {
        "cellView": "form",
        "id": "eFc_bUKHDumk"
      },
      "source": [
        "#@title Youtube init\n",
        "%%capture\n",
        "\n",
        "### Install youtube-dl and requirements\n",
        "!mkdir YoutubeCookie &> /dev/null\n",
        "!apt-get install -y atomicparsley &> /dev/null\n",
        "!pip install --upgrade youtube-dl &> /dev/null\n",
        "\n",
        "### Type of file\n",
        "def videoform():\n",
        "  !youtube-dl $cookie --embed-thumbnail -ciw -o '$output/%(title)s.%(ext)s' -v $link\n",
        "def audioform():\n",
        "  !youtube-dl $cookie --embed-thumbnail --extract-audio --audio-format mp3 -ciw -o '$output/%(title)s.%(ext)s' -v $link\n",
        "\n",
        "### Main code\n",
        "def youtubedownload():\n",
        "  print()\n",
        "  link = input('    Youtube link: ')\n",
        "  output = input('    Output (ex: drive/MyDrive): ')\n",
        "  print(); print(line); print()\n",
        "  print('    Which types of file you want to download? (Default: 3)');print('      1. Only video (MP4/WEPB)');print('      2. Only audio (MP3)');print('      3. Both')\n",
        "  i3 = input('    Input : ') \n",
        "  print('    Do you want to use cookie? If yes, put it to YoutubeCookie folder')\n",
        "  i4 = input('(Y/N, Default: N) : ')\n",
        "  if i4.lower() == \"y\": \n",
        "    cookie = '--cookies YoutubeCookie/cookies.txt'\n",
        "  print(); print(line); print()\n",
        "  if i3 == '1': videoform()\n",
        "  elif i3 == '2': audioform()\n",
        "  else: audioform(); videoform()\n",
        "  del i3, i4, link, output\n",
        "  if 'cookie' in globals(): del cookie\n",
        "  clear_output()\n",
        "  print(); print(c1.center(100, '-')); print()"
      ],
      "execution_count": null,
      "outputs": []
    },
    {
      "cell_type": "code",
      "metadata": {
        "cellView": "form",
        "id": "_4s_qSCzDe18"
      },
      "source": [
        "#@title Mega init\n",
        "\n",
        "### Requirement\n",
        "!apt-get install lynx build-essential libglib2.0-dev libssl-dev libcurl4-openssl-dev\n",
        "!apt-get --no-install-recommends install asciidoc\n",
        "!pip install meson ninja\n",
        "\n",
        "### Megatool install\n",
        "  #> 1. Download from source\n",
        "base = \"https://megatools.megous.com/builds/experimental/\"\n",
        "day = !(lynx -dump -listonly $base | grep 'megatools-' | grep -o '[0-9]*\\.tar.gz' | grep -o '[0-9]*' |  sort -nr | head -1)\n",
        "v1 = !(lynx -dump -listonly $base | grep 'megatools-' | grep -o '[0-9]*\\.[0-9]*\\.[0-9]*' | sort -nr | head -1)\n",
        "latest = 'megatools-' + str(v1) + '-git-' + str(day)\n",
        "file = latest + '.tar.gz'\n",
        "!wget $base$file\n",
        "  #> 2. Install\n",
        "!tar -xf $file\n",
        "%cd $latest\n",
        "!meson b\n",
        "!ninja -C b\n",
        "!sudo ninja -C b install"
      ],
      "execution_count": null,
      "outputs": []
    }
  ]
}
