{
  "nbformat": 4,
  "nbformat_minor": 0,
  "metadata": {
    "colab": {
      "name": "Script",
      "provenance": [],
      "collapsed_sections": [],
      "authorship_tag": "ABX9TyNQ/sR5BJLLd8Si6K9YlclQ",
      "include_colab_link": true
    },
    "kernelspec": {
      "name": "python3",
      "display_name": "Python 3"
    },
    "language_info": {
      "name": "python"
    }
  },
  "cells": [
    {
      "cell_type": "markdown",
      "metadata": {
        "id": "view-in-github",
        "colab_type": "text"
      },
      "source": [
        "<a href=\"https://colab.research.google.com/github/KorewaLidesu/LiScripts/blob/main/Script.ipynb\" target=\"_parent\"><img src=\"https://colab.research.google.com/assets/colab-badge.svg\" alt=\"Open In Colab\"/></a>"
      ]
    },
    {
      "cell_type": "markdown",
      "metadata": {
        "id": "CH_m3ZBDTbsk"
      },
      "source": [
        "## ----------------------- Li's script v1.2 ----------------------- \n",
        "Click Run (or Shift+Enter) to start the script\n",
        "#####(Updated: 02/06/2021)"
      ]
    },
    {
      "cell_type": "code",
      "metadata": {
        "id": "usmpK0MTCjDQ",
        "colab": {
          "base_uri": "https://localhost:8080/"
        },
        "cellView": "form",
        "outputId": "8e6cede0-8557-4edf-d625-f2808745c036"
      },
      "source": [
        "#@title Main code\n",
        "clear_output()\n",
        "try:\n",
        "  print(line);\n",
        "  print('MULTIFUNCTION SCRIPTS'.center(169,' '))\n",
        "  print(line); print(); print()\n",
        "  print('   1. Youtube Downloader')\n",
        "  print('   2. Pixiv Downloader')\n",
        "  print(); print()\n",
        "  print(line)\n",
        "  print('   x. End program');\n",
        "  print(line); print()\n",
        "  i1 = input('Input: ')\n",
        "  if i1 == '1':\n",
        "    clear_output()\n",
        "    dmount()\n",
        "    if not 'yinit' in globals(): \n",
        "      yinst()\n",
        "      global yinit\n",
        "      yinit = ''\n",
        "    youtubedownload()\n",
        "  elif i1 == '2':\n",
        "    clear_output()\n",
        "    dmount()\n",
        "    if not 'pinit' in globals(): \n",
        "      pinst()\n",
        "      global pinit\n",
        "      pinit = ''\n",
        "    if not os.path.exists(\"PixivUtil2/config.ini\"): pconf()\n",
        "    clear_output()\n",
        "    !python PixivUtil2/PixivUtil2.py\n",
        "    clear_output()\n",
        "  elif (i1.lower() == 'x'): \n",
        "    clear_output();\n",
        "  else:\n",
        "    clear_output(); print(); print(e1.center(50, '-')); print()  \n",
        "  del i1\n",
        "except KeyboardInterrupt:\n",
        "  clear_output()\n",
        "  print('Interrupted!')\n",
        "\n",
        "\n",
        "\n",
        "\n"
      ],
      "execution_count": null,
      "outputs": [
        {
          "output_type": "stream",
          "text": [
            " downloading... Creating directory: /content/drive/MyDrive/Pixiv/魔太郎 (1864423)/77549325 - 【フィギュア化】濡れＪＫ R-18 \n",
            "[████████████████████] 532.49 KiB of 532.49 KiB  Completed in 1.132364s (470.25 KiB/s) \n",
            " done. \n",
            " \n",
            "Image URL : https://i.pximg.net/img-original/img/2019/10/30/10/38/36/77549325_p1.png \n",
            "Filename  : /content/drive/MyDrive/Pixiv/魔太郎 (1864423)/77549325 - 【フィギュア化】濡れＪＫ R-18/77549325_p1.png \n",
            "Getting remote filesize... \n",
            "Remote filesize = 748.03 KiB (765979 Bytes) \n",
            "[████████████████████] 748.03 KiB of 748.03 KiB  Completed in 1.153883s (648.27 KiB/s) \n",
            " done. \n",
            " \n",
            "\n",
            " \n",
            "Wait for 1.13s \n",
            "#40 \n",
            "\u001b[33m\u001b[22mProcessing Image Id: 77470883\u001b[0m \n",
            "\u001b]0;PixivDownloader 20210421 [3 of 6] MemberId: 1864423 Page: 1 Post 40+0 of 285 ImageId: 77470883\u0007Title: ホルスタイン★メイド \n",
            "Tags : オリジナル, 女の子, 牛娘, 極上の乳, 尻神様, 下着, 長手袋, オリジナル30000users入り \n",
            "Date : 2019-10-25 09:44:58+00:00 \n",
            "Mode : big \n",
            "Bookmark Count : 30520 \n",
            "Image URL : https://i.pximg.net/img-original/img/2019/10/25/18/46/02/77470883_p0.jpg \n",
            "Filename  : /content/drive/MyDrive/Pixiv/魔太郎 (1864423)/77470883 - ホルスタイン★メイド/77470883_p0.jpg \n",
            "Getting remote filesize... \n",
            "Remote filesize = 435.85 KiB (446307 Bytes) \n",
            "Start downloading... Creating directory: /content/drive/MyDrive/Pixiv/魔太郎 (1864423)/77470883 - ホルスタイン★メイド \n",
            "[████████████████████] 435.85 KiB of 435.85 KiB  Completed in 0.921067s (473.20 KiB/s) \n",
            " done. \n",
            " \n",
            "\n",
            " \n",
            "Wait for 0.453s \n",
            "#41 \n",
            "\u001b[33m\u001b[22mProcessing Image Id: 77277394\u001b[0m \n",
            "\u001b]0;PixivDownloader 20210421 [3 of 6] MemberId: 1864423 Page: 1 Post 41+0 of 285 ImageId: 77277394\u0007Title: 発情ＪＫ \n",
            "Tags : R-18, オリジナル, JK, 巨乳, 制服, 半脱ぎ, 仰臥, ネクパイ, オリジナル10000users入り, ぱんつ \n",
            "Date : 2019-10-13 15:00:04+00:00 \n",
            "Mode : big \n",
            "Bookmark Count : 23212 \n",
            "Image URL : https://i.pximg.net/img-original/img/2019/10/14/00/00/04/77277394_p0.png \n",
            "Filename  : /content/drive/MyDrive/Pixiv/魔太郎 (1864423)/77277394 - 発情ＪＫ R-18/77277394_p0.png \n",
            "Getting remote filesize... \n",
            "Remote filesize = 828.38 KiB (848266 Bytes) \n",
            "Start downloading... Creating directory: /content/drive/MyDrive/Pixiv/魔太郎 (1864423)/77277394 - 発情ＪＫ R-18 \n",
            "[████████████████████] 828.38 KiB of 828.38 KiB  Completed in 1.162584s (712.54 KiB/s) \n",
            " done. \n",
            " \n",
            "\n",
            " \n",
            "Wait for 0.768s \n",
            "#42 \n",
            "\u001b[33m\u001b[22mProcessing Image Id: 77105170\u001b[0m \n"
          ],
          "name": "stdout"
        }
      ]
    },
    {
      "cell_type": "code",
      "metadata": {
        "cellView": "form",
        "id": "tmKNcaGEBQzP"
      },
      "source": [
        "#@title Simple wget downloader\n",
        "import os\n",
        "link = \"input link here\" #@param {type:\"string\"}\n",
        "path = \"Path to store (ex: /content/drive/MyDrive)\" #@param {type:\"string\"}\n",
        "name = \"Name of the file\" #@param {type:\"string\"}\n",
        "try:\n",
        "  !wget -O \"$path/$name\" \"$link\"\n",
        "except KeyboardInterrupt:\n",
        "  clear_output()\n",
        "  print('Interrupted!')"
      ],
      "execution_count": null,
      "outputs": []
    },
    {
      "cell_type": "code",
      "metadata": {
        "id": "ljfiOWZDguWi",
        "cellView": "form"
      },
      "source": [
        "#@title AFK machine { run: \"auto\" }\n",
        "foldera = 7075448 #@param {type:\"number\"}\n",
        "#%%capture\n",
        "#try:\n",
        "  #while True:pass\n",
        "#except KeyboardInterrupt:\n",
        "#  print('Interrupted!')\n",
        "#from google.colab import drive\n",
        "#drive.mount('/content/drive')\n",
        "!find drive/MyDrive/Pixiv/*$foldera*/* -maxdepth 0 -type d | wc -l\n"
      ],
      "execution_count": null,
      "outputs": []
    },
    {
      "cell_type": "markdown",
      "metadata": {
        "id": "tGFJ6_uEhKhN"
      },
      "source": [
        "#Start this cell to initializing\n",
        "You don't need to run this again after"
      ]
    },
    {
      "cell_type": "code",
      "metadata": {
        "id": "DQyL8UJEFyPZ",
        "cellView": "form"
      },
      "source": [
        "#@title Init\n",
        "%%capture\n",
        "import os\n",
        "from IPython.display import clear_output\n",
        "if not (os.path.exists('firstrun')): \n",
        "  ###Varients\n",
        "  HAACHAMA = 'YES'\n",
        "  c1 = ' Execute completed. Program stopped. '\n",
        "  e1 = ' Invalid input '\n",
        "  line = '<=======================================================================================================================================================================>'\n",
        "\n",
        "  ###Drive init\n",
        "  def dinst(): #Init\n",
        "    i2 = input('      Do you want to mount your GDrive? (Y/N, Default: N): ').lower()\n",
        "    if i2 == 'y':\n",
        "      from google.colab import drive\n",
        "      drive.mount('/content/drive')\n",
        "      !mkdir 'dmounted' &> /dev/null\n",
        "    else:\n",
        "      !mkdir 'dnotmount' &> /dev/null\n",
        "    del i2\n",
        "    global dinit\n",
        "    dinit = ''\n",
        "  def dmount(): #Mount detect\n",
        "    print(line); print()\n",
        "    if 'dinit' in globals():\n",
        "      if (os.path.exists('dmounted')): print('      Drive mounted. If you want to change drive, remove \"dmounted\" folder')\n",
        "      elif (os.path.exists('dnotmount')): print('      No drive mounted. If you want to mount drive, remove \"dnotmount\" folder')\n",
        "      else:\n",
        "        dinit = ''\n",
        "        del dinit\n",
        "        dinst()\n",
        "    else: dinst()\n",
        "    print(); print(line)\n",
        "\n",
        "  ###Youtube init\n",
        "  def yinst():\n",
        "      !mkdir YoutubeCookie &> /dev/null\n",
        "      !apt-get install -y atomicparsley &> /dev/null\n",
        "      !pip install --upgrade youtube-dl &> /dev/null\n",
        "  def videoform():\n",
        "    !youtube-dl $cookie --embed-thumbnail -ciw -o '$output/%(title)s.%(ext)s' -v $link\n",
        "  def audioform():\n",
        "    !youtube-dl $cookie --embed-thumbnail --extract-audio --audio-format mp3 -ciw -o '$output/%(title)s.%(ext)s' -v $link\n",
        "  def youtubedownload():\n",
        "    print()\n",
        "    link = input('    Youtube link: ')\n",
        "    output = input('    Output (ex: drive/MyDrive): ')\n",
        "    print(); print(line); print()\n",
        "    print('    Which types of file you want to download? (Default: 3)');print('      1. Only video (MP4/WEPB)');print('      2. Only audio (MP3)');print('      3. Both')\n",
        "    i3 = input('    Input : ') \n",
        "    print('    Do you want to use cookie? If yes, put it to YoutubeCookie folder')\n",
        "    i4 = input('(Y/N, Default: N) : ')\n",
        "    if i4.lower() == \"y\": \n",
        "      cookie = '--cookies YoutubeCookie/cookies.txt'\n",
        "    print(); print(line); print()\n",
        "    if i3 == '1': videoform()\n",
        "    elif i3 == '2': audioform()\n",
        "    else: audioform(); videoform()\n",
        "    del i3, i4\n",
        "    if 'cookie' in globals(): del cookie\n",
        "    clear_output()\n",
        "    print(); print(c1.center(100, '-')); print()\n",
        "\n",
        "  ###Pixiv init\n",
        "  def pinst():\n",
        "    !git clone 'https://github.com/Nandaka/PixivUtil2.git' &> /dev/null\n",
        "    !pip install -r 'PixivUtil2/requirements.txt' &> /dev/null\n",
        "  def pconf():\n",
        "    print('     Missing config.ini. What do you want to do? (Default: 3)')\n",
        "    print('       1. Download from URL (Direct link)')\n",
        "    print('       2. Copy from Drive')\n",
        "    print('       3. Create with first run')\n",
        "    print()\n",
        "    i3= input('Input : ')\n",
        "    if i3 == '1': \n",
        "      link = input('URL : ')\n",
        "      !wget -P /content/PixivUtil2 '$link' &> /dev/null\n",
        "    elif i3 == '2':\n",
        "      link = input('Path (ex: drive/MyDrive/Pixiv) : ') + '/config.ini'\n",
        "      !cp '$link' 'PixivUtil2/config.ini' &> /dev/null\n",
        "    else: pass\n",
        "    del i3\n",
        "  \n",
        "  ###Mega init\n",
        "  def minst():\n",
        "    !apt-get install megatools\n",
        "    "
      ],
      "execution_count": null,
      "outputs": []
    }
  ]
}